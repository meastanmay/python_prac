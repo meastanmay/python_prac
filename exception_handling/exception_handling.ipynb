{
 "cells": [
  {
   "cell_type": "markdown",
   "id": "035d27fd",
   "metadata": {},
   "source": [
    "## Understanding Exceptions:\n",
    "In python Exception handling allows us to handle the errors gracefully and take corrective actions without stopping the execution of the program.\n",
    "\n",
    "**Defination:**\n",
    "Exceptions are the events that disrupt the normal flow of the program. They occur when an error is encountered in the program. Some of the common types of Exceptions are:\n",
    "- ZeroDivisionError: When number is divided by zero\n",
    "- FileNotFoundError: When file is not found\n",
    "- ValueError: Invalid Value\n",
    "- TypeError: Data type of the variable is not valid\n",
    "- ModuleNotFoundError: Module in the library not found while importing"
   ]
  },
  {
   "cell_type": "code",
   "execution_count": 1,
   "id": "e4eafb54",
   "metadata": {},
   "outputs": [
    {
     "ename": "NameError",
     "evalue": "name 'b' is not defined",
     "output_type": "error",
     "traceback": [
      "\u001b[1;31m---------------------------------------------------------------------------\u001b[0m",
      "\u001b[1;31mNameError\u001b[0m                                 Traceback (most recent call last)",
      "Cell \u001b[1;32mIn[1], line 4\u001b[0m\n\u001b[0;32m      1\u001b[0m \u001b[38;5;66;03m# let us say we define a variable\u001b[39;00m\n\u001b[0;32m      2\u001b[0m a\u001b[38;5;241m=\u001b[39m\u001b[38;5;241m10\u001b[39m  \u001b[38;5;66;03m#this won't give any error\u001b[39;00m\n\u001b[1;32m----> 4\u001b[0m a\u001b[38;5;241m=\u001b[39m \u001b[43mb\u001b[49m \n",
      "\u001b[1;31mNameError\u001b[0m: name 'b' is not defined"
     ]
    }
   ],
   "source": [
    "# let us say we define a variable\n",
    "a=10  #this won't give any error\n",
    "\n",
    "a= b "
   ]
  },
  {
   "cell_type": "markdown",
   "id": "8e1683c5",
   "metadata": {},
   "source": [
    "From the above results we can see that since variable b is not defined the program gave NameError"
   ]
  },
  {
   "cell_type": "code",
   "execution_count": 2,
   "id": "73457a46",
   "metadata": {},
   "outputs": [
    {
     "name": "stdout",
     "output_type": "stream",
     "text": [
      "The variable has not been assigned\n"
     ]
    }
   ],
   "source": [
    "# The above error message is understandable to a coder but may or may not be understable to a leyman. \n",
    "# Exception handling thus provides us a way to handle errors gracefully so that the end user could understand it.\n",
    "\n",
    "try:\n",
    "    a=b\n",
    "except:\n",
    "    print(\"The variable has not been assigned\")"
   ]
  },
  {
   "cell_type": "code",
   "execution_count": 3,
   "id": "33cda883",
   "metadata": {},
   "outputs": [
    {
     "name": "stdout",
     "output_type": "stream",
     "text": [
      "name 'b' is not defined\n"
     ]
    }
   ],
   "source": [
    "# we can use the existing error class to print the exception statement\n",
    "try:\n",
    "    a=b\n",
    "except NameError as ex:\n",
    "    print(ex)"
   ]
  },
  {
   "cell_type": "code",
   "execution_count": 5,
   "id": "f98373ed",
   "metadata": {},
   "outputs": [
    {
     "name": "stdout",
     "output_type": "stream",
     "text": [
      "division by zero\n",
      "enter the denominator other than 0\n"
     ]
    }
   ],
   "source": [
    "# Example 2:\n",
    "try:\n",
    "    result=1/0\n",
    "except ZeroDivisionError as error:\n",
    "    print(error)\n",
    "    print(\"enter the denominator other than 0\")"
   ]
  },
  {
   "cell_type": "markdown",
   "id": "1a0d35cb",
   "metadata": {},
   "source": [
    "**Sometimes while handling exceptions we might not consider the errors which might occur. And it is also not possible to remember all the types of Error names in python. But, there is a class called 'Exception' class under which all the Errors are part of. So instead of providing the exact ErrorName we can use this Exception class to automatically detect the error and handle it according to our instructions.**"
   ]
  },
  {
   "cell_type": "code",
   "execution_count": 6,
   "id": "5be7c3d5",
   "metadata": {},
   "outputs": [
    {
     "name": "stdout",
     "output_type": "stream",
     "text": [
      "name 'b' is not defined\n"
     ]
    }
   ],
   "source": [
    "# Let us take an example\n",
    "try:\n",
    "    a=b\n",
    "    result = 1/0\n",
    "except Exception as ex:\n",
    "    print(ex)"
   ]
  },
  {
   "cell_type": "markdown",
   "id": "130ca1e6",
   "metadata": {},
   "source": [
    "**From the above result we can observe one thing that for every error we need to provide the exception statement separately.**"
   ]
  },
  {
   "cell_type": "code",
   "execution_count": 1,
   "id": "2917a5f6",
   "metadata": {},
   "outputs": [
    {
     "name": "stdout",
     "output_type": "stream",
     "text": [
      "name 'b' is not defined\n"
     ]
    }
   ],
   "source": [
    "# Example\n",
    "try:\n",
    "    a=b\n",
    "    result=2/0\n",
    "except NameError as ne:\n",
    "    print(ne)\n",
    "except Exception as ex:\n",
    "    print(ex)\n",
    "    print(\"Denominator should not be 0\")"
   ]
  },
  {
   "cell_type": "markdown",
   "id": "537c2e67",
   "metadata": {},
   "source": [
    "**Important**: In the above example we have seen that we are able to handle only one of the errors. The error which occured first will only be handled."
   ]
  },
  {
   "cell_type": "code",
   "execution_count": 3,
   "id": "d49e9cc4",
   "metadata": {},
   "outputs": [
    {
     "name": "stdout",
     "output_type": "stream",
     "text": [
      "Enter value other than 0\n"
     ]
    }
   ],
   "source": [
    "# Example: We will try to handle different errors that could occur while running the program\n",
    "try:\n",
    "    num = int(input(\"enter a number\"))\n",
    "    result = 10/num\n",
    "except ValueError:\n",
    "    print(\"Please enter correct value of number\")\n",
    "except ZeroDivisionError:\n",
    "    print(\"Enter value other than 0\")"
   ]
  },
  {
   "cell_type": "code",
   "execution_count": null,
   "id": "48f6b403",
   "metadata": {},
   "outputs": [
    {
     "name": "stdout",
     "output_type": "stream",
     "text": [
      "The result = 0.43478260869565216\n"
     ]
    }
   ],
   "source": [
    "# try,except,else block\n",
    "# We will again take the above example and add an else block at the end\n",
    "try:\n",
    "    num = int(input(\"enter a number\"))\n",
    "    result = 10/num\n",
    "except ValueError:\n",
    "    print(\"Please enter correct value of number\")\n",
    "except ZeroDivisionError:\n",
    "    print(\"Enter value other than 0\")\n",
    "except Exception as ex:\n",
    "    print(ex)\n",
    "else:\n",
    "    print(f\"The result = {result}\")"
   ]
  },
  {
   "cell_type": "markdown",
   "id": "35a0370e",
   "metadata": {},
   "source": [
    "In the above block of code the else block will get executed only when there would be no error"
   ]
  },
  {
   "cell_type": "code",
   "execution_count": null,
   "id": "585c00c4",
   "metadata": {},
   "outputs": [],
   "source": []
  },
  {
   "cell_type": "code",
   "execution_count": null,
   "id": "f8dcb091",
   "metadata": {},
   "outputs": [],
   "source": []
  },
  {
   "cell_type": "code",
   "execution_count": null,
   "id": "a0c0ff27",
   "metadata": {},
   "outputs": [],
   "source": []
  },
  {
   "cell_type": "code",
   "execution_count": null,
   "id": "54e5b4a7",
   "metadata": {},
   "outputs": [],
   "source": []
  },
  {
   "cell_type": "markdown",
   "id": "2836715c",
   "metadata": {},
   "source": []
  }
 ],
 "metadata": {
  "kernelspec": {
   "display_name": "Python 3",
   "language": "python",
   "name": "python3"
  },
  "language_info": {
   "codemirror_mode": {
    "name": "ipython",
    "version": 3
   },
   "file_extension": ".py",
   "mimetype": "text/x-python",
   "name": "python",
   "nbconvert_exporter": "python",
   "pygments_lexer": "ipython3",
   "version": "3.12.0"
  }
 },
 "nbformat": 4,
 "nbformat_minor": 5
}
