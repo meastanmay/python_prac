{
 "cells": [
  {
   "cell_type": "markdown",
   "id": "d77fa06e",
   "metadata": {},
   "source": [
    "## File Operations: Read and Write Files in Python\n",
    "Python provides in built functions and methods to read, write, save and delete files."
   ]
  },
  {
   "cell_type": "code",
   "execution_count": 1,
   "id": "8e162aab",
   "metadata": {},
   "outputs": [
    {
     "name": "stdout",
     "output_type": "stream",
     "text": [
      "Hello World!\n",
      "This is a new line\n",
      "\n"
     ]
    }
   ],
   "source": [
    "# reading the whole file\n",
    "with open(\"C:/Users/tanma/Desktop/Udemy/Complete DS course/DS_practice/Python/sample_file.txt\", mode='r') as file:\n",
    "    content = file.read()\n",
    "    print(content)"
   ]
  },
  {
   "cell_type": "code",
   "execution_count": 2,
   "id": "a5ebaeba",
   "metadata": {},
   "outputs": [
    {
     "name": "stdout",
     "output_type": "stream",
     "text": [
      "Hello World!\n",
      "This is a new line\n"
     ]
    }
   ],
   "source": [
    "# reading the file line by line\n",
    "with open(\"C:/Users/tanma/Desktop/Udemy/Complete DS course/DS_practice/Python/sample_file.txt\", mode='r') as file:\n",
    "    for line in file:\n",
    "        print(line.strip())"
   ]
  },
  {
   "cell_type": "code",
   "execution_count": 3,
   "id": "396049cc",
   "metadata": {},
   "outputs": [],
   "source": [
    "# Writing a file (Overwriting)\n",
    "file_path = \"C:/Users/tanma/Desktop/Udemy/Complete DS course/DS_practice/Python/sample_file.txt\"\n",
    "with open(file_path, mode='w') as file:\n",
    "    file.write(\"Hello World! My name is Tanmay Agarwal\\n\")\n",
    "    file.write(\"Here I am practicing File Handling in python\")"
   ]
  },
  {
   "cell_type": "code",
   "execution_count": 4,
   "id": "f0f22319",
   "metadata": {},
   "outputs": [],
   "source": [
    "# Writing a file without overwriting\n",
    "with open(file_path,mode='a') as file:   #here mode='a' means appending\n",
    "    file.write(\"\\nThis line will get appended rather than writing the file from the starting\")\n"
   ]
  },
  {
   "cell_type": "code",
   "execution_count": 5,
   "id": "78f24d94",
   "metadata": {},
   "outputs": [],
   "source": [
    "# Writing list of lines to a file\n",
    "line_lst = ['\\nFirst Line','\\nSecond Line']\n",
    "with open(file_path,mode='a') as file:\n",
    "    file.writelines(line_lst)"
   ]
  },
  {
   "cell_type": "code",
   "execution_count": 6,
   "id": "4137163f",
   "metadata": {},
   "outputs": [],
   "source": [
    "# Read a text file and count the number of lines, words and characters in the file\n",
    "def count_text_file(file_path):\n",
    "    with open(file_path,mode='r') as file:\n",
    "        lines = file.readlines()\n",
    "        line_count = len(lines)\n",
    "        word_count = sum(len(line.split()) for line in lines)\n",
    "        char_count = sum(len(line) for line in lines)\n",
    "    return line_count,word_count,char_count"
   ]
  },
  {
   "cell_type": "code",
   "execution_count": 7,
   "id": "c551ec03",
   "metadata": {},
   "outputs": [
    {
     "name": "stdout",
     "output_type": "stream",
     "text": [
      "No. of lines=5\n",
      "No. of words=32\n",
      "No. of characters=181\n"
     ]
    }
   ],
   "source": [
    "lines,words,chars = count_text_file(file_path)\n",
    "print(f\"No. of lines={lines}\\nNo. of words={words}\\nNo. of characters={chars}\")"
   ]
  },
  {
   "cell_type": "code",
   "execution_count": 8,
   "id": "dccc96c1",
   "metadata": {},
   "outputs": [],
   "source": [
    "# Copying content from one file and pasting in another file\n",
    "\n",
    "# Copying content from the source file\n",
    "with open(file_path,mode='r') as source_file:\n",
    "    content=source_file.read()\n",
    "\n",
    "# pasting content into a destination file\n",
    "with open ('destination.txt',mode='w') as destination_file:\n",
    "    destination_file.write(content)"
   ]
  },
  {
   "cell_type": "code",
   "execution_count": 9,
   "id": "3cbc6b6f",
   "metadata": {},
   "outputs": [],
   "source": [
    "# removing the destination.txt file\n",
    "import os"
   ]
  },
  {
   "cell_type": "code",
   "execution_count": 10,
   "id": "a5e61549",
   "metadata": {},
   "outputs": [],
   "source": [
    "os.remove(\"destination.txt\")"
   ]
  },
  {
   "cell_type": "code",
   "execution_count": 11,
   "id": "39032dd5",
   "metadata": {},
   "outputs": [
    {
     "name": "stdout",
     "output_type": "stream",
     "text": [
      "Hello World!\n",
      "This is a new line\n",
      "\n"
     ]
    }
   ],
   "source": [
    "# writing and reading the files\n",
    "# To read and write the files we use mode = 'w+'. If the file is available it will overwrite the file else \n",
    "# it will create a new file. \n",
    "with open(file_path,mode='w+') as file:\n",
    "    file.write(\"Hello World!\\n\")\n",
    "    file.write(\"This is a new line\\n\")\n",
    "\n",
    "    # move the file cursor to the beginning\n",
    "    file.seek(0)\n",
    "\n",
    "    # reading the content of the file\n",
    "    content = file.read()\n",
    "    print(content) "
   ]
  },
  {
   "cell_type": "markdown",
   "id": "417e6470",
   "metadata": {},
   "source": [
    "## Working with File Paths"
   ]
  },
  {
   "cell_type": "code",
   "execution_count": 12,
   "id": "30e85ffe",
   "metadata": {},
   "outputs": [],
   "source": [
    "# importing the os library\n",
    "import os"
   ]
  },
  {
   "cell_type": "code",
   "execution_count": 13,
   "id": "8496da6e",
   "metadata": {},
   "outputs": [
    {
     "name": "stdout",
     "output_type": "stream",
     "text": [
      "The current working directory is c:\\Users\\tanma\\Desktop\\Udemy\\Complete DS course\\DS_practice\\Python\\file_handling_ops\n"
     ]
    }
   ],
   "source": [
    "# getting the current working directory\n",
    "cur_dir = os.getcwd()\n",
    "print(f\"The current working directory is {cur_dir}\")"
   ]
  },
  {
   "cell_type": "code",
   "execution_count": 14,
   "id": "fc6ae521",
   "metadata": {},
   "outputs": [
    {
     "name": "stdout",
     "output_type": "stream",
     "text": [
      "Directory package created\n"
     ]
    }
   ],
   "source": [
    "# creating a new directory\n",
    "new_dir = 'package'\n",
    "os.mkdir(new_dir)\n",
    "print(f\"Directory {new_dir} created\")"
   ]
  },
  {
   "cell_type": "code",
   "execution_count": 15,
   "id": "801e5eb4",
   "metadata": {},
   "outputs": [
    {
     "name": "stdout",
     "output_type": "stream",
     "text": [
      "['package', 'py_file_handling.ipynb']\n"
     ]
    }
   ],
   "source": [
    "# Listing all the files and directories\n",
    "items = os.listdir('.') # The '.' here refers to all the files and folders present in the current directory\n",
    "print(items)"
   ]
  },
  {
   "cell_type": "code",
   "execution_count": 16,
   "id": "cc3f5ccd",
   "metadata": {},
   "outputs": [
    {
     "name": "stdout",
     "output_type": "stream",
     "text": [
      "c:\\Users\\tanma\\Desktop\\Udemy\\Complete DS course\\DS_practice\\Python\\file_handling_ops\\folder\\file.txt\n"
     ]
    }
   ],
   "source": [
    "# Joining paths\n",
    "dir_name = \"folder\"\n",
    "file_name = 'file.txt'\n",
    "full_path = os.path.join(os.getcwd(),dir_name,file_name)\n",
    "print(full_path)"
   ]
  },
  {
   "cell_type": "code",
   "execution_count": 19,
   "id": "3fc223ee",
   "metadata": {},
   "outputs": [
    {
     "name": "stdout",
     "output_type": "stream",
     "text": [
      "sample_file.txt is available at the location\n"
     ]
    }
   ],
   "source": [
    "# checking if a file exists at a particular location\n",
    "file_name = 'sample_file.txt'\n",
    "folder_path = 'c:/Users/tanma/Desktop/Udemy/Complete DS course/DS_practice/Python'\n",
    "\n",
    "if os.path.exists(os.path.join(folder_path,file_name)):\n",
    "    print(f\"{file_name} is available at the location\")\n",
    "else:\n",
    "    print(f\"Wrong path. {file_name} is not available at the location\")"
   ]
  },
  {
   "cell_type": "code",
   "execution_count": null,
   "id": "18380492",
   "metadata": {},
   "outputs": [],
   "source": []
  }
 ],
 "metadata": {
  "kernelspec": {
   "display_name": "Python 3",
   "language": "python",
   "name": "python3"
  },
  "language_info": {
   "codemirror_mode": {
    "name": "ipython",
    "version": 3
   },
   "file_extension": ".py",
   "mimetype": "text/x-python",
   "name": "python",
   "nbconvert_exporter": "python",
   "pygments_lexer": "ipython3",
   "version": "3.12.0"
  }
 },
 "nbformat": 4,
 "nbformat_minor": 5
}
