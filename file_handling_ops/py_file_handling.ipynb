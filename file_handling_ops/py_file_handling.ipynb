{
 "cells": [
  {
   "cell_type": "markdown",
   "id": "d77fa06e",
   "metadata": {},
   "source": [
    "## File Operations: Read and Write Files in Python\n",
    "Python provides in built functions and methods to read, write, save and delete files."
   ]
  },
  {
   "cell_type": "code",
   "execution_count": 1,
   "id": "8e162aab",
   "metadata": {},
   "outputs": [
    {
     "name": "stdout",
     "output_type": "stream",
     "text": [
      "Hello World!\n",
      "This is a new line\n",
      "\n"
     ]
    }
   ],
   "source": [
    "# reading the whole file\n",
    "with open(\"C:/Users/tanma/Desktop/Udemy/Complete DS course/DS_practice/Python/sample_file.txt\", mode='r') as file:\n",
    "    content = file.read()\n",
    "    print(content)"
   ]
  },
  {
   "cell_type": "code",
   "execution_count": 2,
   "id": "a5ebaeba",
   "metadata": {},
   "outputs": [
    {
     "name": "stdout",
     "output_type": "stream",
     "text": [
      "Hello World!\n",
      "This is a new line\n"
     ]
    }
   ],
   "source": [
    "# reading the file line by line\n",
    "with open(\"C:/Users/tanma/Desktop/Udemy/Complete DS course/DS_practice/Python/sample_file.txt\", mode='r') as file:\n",
    "    for line in file:\n",
    "        print(line.strip())"
   ]
  },
  {
   "cell_type": "code",
   "execution_count": 3,
   "id": "396049cc",
   "metadata": {},
   "outputs": [],
   "source": [
    "# Writing a file (Overwriting)\n",
    "file_path = \"C:/Users/tanma/Desktop/Udemy/Complete DS course/DS_practice/Python/sample_file.txt\"\n",
    "with open(file_path, mode='w') as file:\n",
    "    file.write(\"Hello World! My name is Tanmay Agarwal\\n\")\n",
    "    file.write(\"Here I am practicing File Handling in python\")"
   ]
  },
  {
   "cell_type": "code",
   "execution_count": 4,
   "id": "f0f22319",
   "metadata": {},
   "outputs": [],
   "source": [
    "# Writing a file without overwriting\n",
    "with open(file_path,mode='a') as file:   #here mode='a' means appending\n",
    "    file.write(\"\\nThis line will get appended rather than writing the file from the starting\")\n"
   ]
  },
  {
   "cell_type": "code",
   "execution_count": 5,
   "id": "78f24d94",
   "metadata": {},
   "outputs": [],
   "source": [
    "# Writing list of lines to a file\n",
    "line_lst = ['\\nFirst Line','\\nSecond Line']\n",
    "with open(file_path,mode='a') as file:\n",
    "    file.writelines(line_lst)"
   ]
  },
  {
   "cell_type": "code",
   "execution_count": 6,
   "id": "4137163f",
   "metadata": {},
   "outputs": [],
   "source": [
    "# Read a text file and count the number of lines, words and characters in the file\n",
    "def count_text_file(file_path):\n",
    "    with open(file_path,mode='r') as file:\n",
    "        lines = file.readlines()\n",
    "        line_count = len(lines)\n",
    "        word_count = sum(len(line.split()) for line in lines)\n",
    "        char_count = sum(len(line) for line in lines)\n",
    "    return line_count,word_count,char_count"
   ]
  },
  {
   "cell_type": "code",
   "execution_count": 7,
   "id": "c551ec03",
   "metadata": {},
   "outputs": [
    {
     "name": "stdout",
     "output_type": "stream",
     "text": [
      "No. of lines=5\n",
      "No. of words=32\n",
      "No. of characters=181\n"
     ]
    }
   ],
   "source": [
    "lines,words,chars = count_text_file(file_path)\n",
    "print(f\"No. of lines={lines}\\nNo. of words={words}\\nNo. of characters={chars}\")"
   ]
  },
  {
   "cell_type": "code",
   "execution_count": 8,
   "id": "dccc96c1",
   "metadata": {},
   "outputs": [],
   "source": [
    "# Copying content from one file and pasting in another file\n",
    "\n",
    "# Copying content from the source file\n",
    "with open(file_path,mode='r') as source_file:\n",
    "    content=source_file.read()\n",
    "\n",
    "# pasting content into a destination file\n",
    "with open ('destination.txt',mode='w') as destination_file:\n",
    "    destination_file.write(content)"
   ]
  },
  {
   "cell_type": "code",
   "execution_count": 9,
   "id": "3cbc6b6f",
   "metadata": {},
   "outputs": [],
   "source": [
    "# removing the destination.txt file\n",
    "import os"
   ]
  },
  {
   "cell_type": "code",
   "execution_count": 10,
   "id": "a5e61549",
   "metadata": {},
   "outputs": [],
   "source": [
    "os.remove(\"destination.txt\")"
   ]
  },
  {
   "cell_type": "code",
   "execution_count": 11,
   "id": "39032dd5",
   "metadata": {},
   "outputs": [
    {
     "name": "stdout",
     "output_type": "stream",
     "text": [
      "Hello World!\n",
      "This is a new line\n",
      "\n"
     ]
    }
   ],
   "source": [
    "# writing and reading the files\n",
    "# To read and write the files we use mode = 'w+'. If the file is available it will overwrite the file else \n",
    "# it will create a new file. \n",
    "with open(file_path,mode='w+') as file:\n",
    "    file.write(\"Hello World!\\n\")\n",
    "    file.write(\"This is a new line\\n\")\n",
    "\n",
    "    # move the file cursor to the beginning\n",
    "    file.seek(0)\n",
    "\n",
    "    # reading the content of the file\n",
    "    content = file.read()\n",
    "    print(content) "
   ]
  },
  {
   "cell_type": "markdown",
   "id": "417e6470",
   "metadata": {},
   "source": [
    "## Working with File Paths"
   ]
  },
  {
   "cell_type": "code",
   "execution_count": 12,
   "id": "30e85ffe",
   "metadata": {},
   "outputs": [],
   "source": [
    "# importing the os library\n",
    "import os"
   ]
  },
  {
   "cell_type": "code",
   "execution_count": 13,
   "id": "8496da6e",
   "metadata": {},
   "outputs": [
    {
     "name": "stdout",
     "output_type": "stream",
     "text": [
      "The current working directory is c:\\Users\\tanma\\Desktop\\Udemy\\Complete DS course\\DS_practice\\Python\\file_handling_ops\n"
     ]
    }
   ],
   "source": [
    "# getting the current working directory\n",
    "cur_dir = os.getcwd()\n",
    "print(f\"The current working directory is {cur_dir}\")"
   ]
  },
  {
   "cell_type": "code",
   "execution_count": 14,
   "id": "fc6ae521",
   "metadata": {},
   "outputs": [
    {
     "name": "stdout",
     "output_type": "stream",
     "text": [
      "Directory package created\n"
     ]
    }
   ],
   "source": [
    "# creating a new directory\n",
    "new_dir = 'package'\n",
    "os.mkdir(new_dir)\n",
    "print(f\"Directory {new_dir} created\")"
   ]
  },
  {
   "cell_type": "code",
   "execution_count": 15,
   "id": "801e5eb4",
   "metadata": {},
   "outputs": [
    {
     "name": "stdout",
     "output_type": "stream",
     "text": [
      "['package', 'py_file_handling.ipynb']\n"
     ]
    }
   ],
   "source": [
    "# Listing all the files and directories\n",
    "items = os.listdir('.') # The '.' here refers to all the files and folders present in the current directory\n",
    "print(items)"
   ]
  },
  {
   "cell_type": "code",
   "execution_count": 16,
   "id": "cc3f5ccd",
   "metadata": {},
   "outputs": [
    {
     "name": "stdout",
     "output_type": "stream",
     "text": [
      "c:\\Users\\tanma\\Desktop\\Udemy\\Complete DS course\\DS_practice\\Python\\file_handling_ops\\folder\\file.txt\n"
     ]
    }
   ],
   "source": [
    "# Joining paths\n",
    "dir_name = \"folder\"\n",
    "file_name = 'file.txt'\n",
    "full_path = os.path.join(os.getcwd(),dir_name,file_name)\n",
    "print(full_path)"
   ]
  },
  {
   "cell_type": "code",
   "execution_count": 19,
   "id": "3fc223ee",
   "metadata": {},
   "outputs": [
    {
     "name": "stdout",
     "output_type": "stream",
     "text": [
      "sample_file.txt is available at the location\n"
     ]
    }
   ],
   "source": [
    "# checking if a file exists at a particular location\n",
    "file_name = 'sample_file.txt'\n",
    "folder_path = 'c:/Users/tanma/Desktop/Udemy/Complete DS course/DS_practice/Python'\n",
    "\n",
    "if os.path.exists(os.path.join(folder_path,file_name)):\n",
    "    print(f\"{file_name} is available at the location\")\n",
    "else:\n",
    "    print(f\"Wrong path. {file_name} is not available at the location\")"
   ]
  },
  {
   "cell_type": "markdown",
   "id": "a8100071",
   "metadata": {},
   "source": [
    "## File Handling Assignment"
   ]
  },
  {
   "cell_type": "markdown",
   "id": "65089766",
   "metadata": {},
   "source": [
    "### Assignment 1: Reading a File\n",
    "\n",
    "Write a function that reads the contents of a file named `sample.txt` and prints each line."
   ]
  },
  {
   "cell_type": "code",
   "execution_count": 20,
   "id": "4f40b6b0",
   "metadata": {},
   "outputs": [],
   "source": [
    "# First let us create a file named new_sample.txt instead of sample.txt in our current directory and write a few lines\n",
    "\n",
    "with open('new_sample.txt',mode='w') as file:\n",
    "    file.write('Hello! This is the new sample file created in the current directory\\n')\n",
    "    file.write(\"I am writing few lines in the file to use it as sample file to work on the assignment\")"
   ]
  },
  {
   "cell_type": "code",
   "execution_count": 21,
   "id": "ed9a529f",
   "metadata": {},
   "outputs": [
    {
     "name": "stdout",
     "output_type": "stream",
     "text": [
      "Hello! This is the new sample file created in the current directory\n",
      "I am writing few lines in the file to use it as sample file to work on the assignment\n"
     ]
    }
   ],
   "source": [
    "# reading the above file\n",
    "with open('new_sample.txt',mode='r') as file:\n",
    "    content = file.read()\n",
    "    print(content)"
   ]
  },
  {
   "cell_type": "markdown",
   "id": "ae892836",
   "metadata": {},
   "source": [
    "### Assignment 2: Writing to a File\n",
    "\n",
    "Write a function that writes a list of strings to a file named `output.txt`, with each string on a new line."
   ]
  },
  {
   "cell_type": "code",
   "execution_count": 22,
   "id": "d25ce4aa",
   "metadata": {},
   "outputs": [],
   "source": [
    "lines = ['This is the ouput file\\n','We have written multiple lines using python in this text file']\n",
    "with open('output.txt',mode='w') as output_file:\n",
    "    output_file.writelines(lines)"
   ]
  },
  {
   "cell_type": "code",
   "execution_count": 23,
   "id": "094856d7",
   "metadata": {},
   "outputs": [
    {
     "name": "stdout",
     "output_type": "stream",
     "text": [
      "This is the ouput file\n",
      "We have written multiple lines using python in this text file\n"
     ]
    }
   ],
   "source": [
    "# checking if the output file above was created as per the instructions\n",
    "with open('output.txt',mode='r') as file:\n",
    "    content = file.read()\n",
    "    print(content)"
   ]
  },
  {
   "cell_type": "markdown",
   "id": "3d12538c",
   "metadata": {},
   "source": [
    "### Assignment 3: Copying a File\n",
    "\n",
    "Write a function that copies the contents of a file named `source.txt` to a new file named `destination.txt`."
   ]
  },
  {
   "cell_type": "code",
   "execution_count": 24,
   "id": "5fd60fcf",
   "metadata": {},
   "outputs": [],
   "source": [
    "# copying the new_sample.txt file\n",
    "with open('new_sample.txt',mode='r') as source_file:\n",
    "    content=source_file.read()\n",
    "\n",
    "# pasting the content into file named as destination.txt\n",
    "with open('destination.txt',mode='w') as destination_file:\n",
    "    destination_file.write(content)"
   ]
  },
  {
   "cell_type": "code",
   "execution_count": 25,
   "id": "e3d866da",
   "metadata": {},
   "outputs": [
    {
     "name": "stdout",
     "output_type": "stream",
     "text": [
      "Hello! This is the new sample file created in the current directory\n",
      "I am writing few lines in the file to use it as sample file to work on the assignment\n"
     ]
    }
   ],
   "source": [
    "# Checking if we have correctly copied the contents of new_sample file into destination file or not\n",
    "with open('destination.txt',mode='r') as file:\n",
    "    print(file.read())"
   ]
  },
  {
   "cell_type": "markdown",
   "id": "b7c12cc5",
   "metadata": {},
   "source": [
    "### Assignment 4: Appending to a File\n",
    "\n",
    "Write a function that appends a given string to the end of a file named `log.txt`."
   ]
  },
  {
   "cell_type": "code",
   "execution_count": 26,
   "id": "d602c9de",
   "metadata": {},
   "outputs": [],
   "source": [
    "def append(line:str):\n",
    "    with open('log.txt',mode='a') as file:\n",
    "        file.write(line)\n",
    "    "
   ]
  },
  {
   "cell_type": "code",
   "execution_count": 27,
   "id": "2b7a9786",
   "metadata": {},
   "outputs": [],
   "source": [
    "append('This is the first line to get appended in log.txt file')"
   ]
  },
  {
   "cell_type": "code",
   "execution_count": 28,
   "id": "35808c3e",
   "metadata": {},
   "outputs": [
    {
     "name": "stdout",
     "output_type": "stream",
     "text": [
      "This is the first line to get appended in log.txt file\n"
     ]
    }
   ],
   "source": [
    "# checking the newly created log.txt file\n",
    "with open('log.txt',mode='r') as file:\n",
    "    print(file.read())"
   ]
  },
  {
   "cell_type": "code",
   "execution_count": null,
   "id": "fd1b0796",
   "metadata": {},
   "outputs": [],
   "source": [
    "# Counting words in the file\n"
   ]
  },
  {
   "cell_type": "code",
   "execution_count": null,
   "id": "055714f3",
   "metadata": {},
   "outputs": [],
   "source": []
  },
  {
   "cell_type": "code",
   "execution_count": null,
   "id": "0e1bd69c",
   "metadata": {},
   "outputs": [],
   "source": []
  },
  {
   "cell_type": "code",
   "execution_count": null,
   "id": "82b67d3d",
   "metadata": {},
   "outputs": [],
   "source": []
  },
  {
   "cell_type": "code",
   "execution_count": null,
   "id": "a58fd4f4",
   "metadata": {},
   "outputs": [],
   "source": []
  },
  {
   "cell_type": "code",
   "execution_count": null,
   "id": "2d1d5efe",
   "metadata": {},
   "outputs": [],
   "source": []
  },
  {
   "cell_type": "code",
   "execution_count": null,
   "id": "df628de2",
   "metadata": {},
   "outputs": [],
   "source": []
  },
  {
   "cell_type": "code",
   "execution_count": null,
   "id": "0c0636cb",
   "metadata": {},
   "outputs": [],
   "source": []
  },
  {
   "cell_type": "code",
   "execution_count": null,
   "id": "be1ed4aa",
   "metadata": {},
   "outputs": [],
   "source": []
  },
  {
   "cell_type": "code",
   "execution_count": null,
   "id": "2b3401bc",
   "metadata": {},
   "outputs": [],
   "source": []
  },
  {
   "cell_type": "code",
   "execution_count": null,
   "id": "18380492",
   "metadata": {},
   "outputs": [],
   "source": []
  }
 ],
 "metadata": {
  "kernelspec": {
   "display_name": "Python 3",
   "language": "python",
   "name": "python3"
  },
  "language_info": {
   "codemirror_mode": {
    "name": "ipython",
    "version": 3
   },
   "file_extension": ".py",
   "mimetype": "text/x-python",
   "name": "python",
   "nbconvert_exporter": "python",
   "pygments_lexer": "ipython3",
   "version": "3.12.0"
  }
 },
 "nbformat": 4,
 "nbformat_minor": 5
}
