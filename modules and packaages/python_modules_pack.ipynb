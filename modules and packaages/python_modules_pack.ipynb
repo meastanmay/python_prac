{
 "cells": [
  {
   "cell_type": "markdown",
   "id": "5b049a47",
   "metadata": {},
   "source": [
    "# Modules and Packages\n",
    "In Python Modules and packages contain set of functions related to particular type use case e.g. pandas, numpy, scikit-learn, etc. are few of the very popular libraries containing modules/packages useful for Data manipulation, Data Analytics and Machine Learning."
   ]
  },
  {
   "cell_type": "markdown",
   "id": "fa96343b",
   "metadata": {},
   "source": [
    "### Creating custom package or module\n",
    "\n",
    "Let us first understand the difference between Library, module and package.\n",
    "- **Library:** It is a collection of multiple modules or packages\n",
    "- **Package:** It is a collection of one or more modules. The modules created in a package are grouped in such a way that they are mostly utilized for common use cases. A package is initialized by **__ init __.py** file. This allows the user to directly import the modules or functions and use them within their workspace.\n",
    "- **Module:** We could say this is the smallest unit of the hierarchy. A module is a python file where we define one or more functions."
   ]
  },
  {
   "cell_type": "code",
   "execution_count": 6,
   "id": "637b7f3e",
   "metadata": {},
   "outputs": [
    {
     "name": "stdout",
     "output_type": "stream",
     "text": [
      "35\n",
      "-1\n",
      "12\n",
      "4.0\n"
     ]
    }
   ],
   "source": [
    "# Now we will import all the function we defined in the math module of our package\n",
    "from package.math import *\n",
    "\n",
    "print(add(2,3,4,7,9,10))\n",
    "print(sub(2,3))\n",
    "print(multiply(4,3))\n",
    "print(division(12,3))"
   ]
  },
  {
   "cell_type": "markdown",
   "id": "47b0595e",
   "metadata": {},
   "source": [
    "**To create a subpackage the process remains the same. we need to create a subfolder within the package folder. Intialize it with __ init __.py file and create one or more modules.**"
   ]
  },
  {
   "cell_type": "code",
   "execution_count": null,
   "id": "c57fe2f1",
   "metadata": {},
   "outputs": [],
   "source": [
    "# Importing our custom created package and module\n",
    "from package.subpackage.stats import *"
   ]
  },
  {
   "cell_type": "code",
   "execution_count": null,
   "id": "19f69fe4",
   "metadata": {},
   "outputs": [
    {
     "data": {
      "text/plain": [
       "<module 'package.subpackage.stats' from 'c:\\\\Users\\\\tanma\\\\Desktop\\\\Udemy\\\\Complete DS course\\\\DS_practice\\\\Python\\\\modules and packaages\\\\package\\\\subpackage\\\\stats.py'>"
      ]
     },
     "execution_count": 19,
     "metadata": {},
     "output_type": "execute_result"
    }
   ],
   "source": [
    "# In python the .py files once compiled are stored as .pyc files in a folder called as __pycache__.\n",
    "# This helps python to quickly retrieve any function from its cache memory rather than running code again and again\n",
    "# So, if while compiling the modules we made a mistake ond want to edit it. We first need to save the changes and then\n",
    "# relod the module. for which we can use importlib library.\n",
    "import importlib\n",
    "from package.subpackage import stats\n",
    "importlib.reload(stats)"
   ]
  },
  {
   "cell_type": "code",
   "execution_count": 20,
   "id": "d49ab812",
   "metadata": {},
   "outputs": [
    {
     "name": "stdout",
     "output_type": "stream",
     "text": [
      "Minimum:1\n",
      "Mean:11.833333333333334\n",
      "Median:14.5\n",
      "Maximum:34\n"
     ]
    }
   ],
   "source": [
    "stats.five_point_summary([2,1,34,23,5,6])"
   ]
  },
  {
   "cell_type": "markdown",
   "id": "11f3c956",
   "metadata": {},
   "source": [
    "### Standard Libraries\n",
    "\n",
    "Python has a lot of libraries which are created and used by people all over the world. Some of the very popular standard libraries include maths, pandas, numpy, os, random, Scikit-learn, etc.\n",
    "\n",
    "These libraries have multiple modules and packages covering a wide array of functions used for multiple use cases."
   ]
  },
  {
   "cell_type": "code",
   "execution_count": 2,
   "id": "48413535",
   "metadata": {},
   "outputs": [],
   "source": [
    "# working with OS library\n",
    "import os"
   ]
  },
  {
   "cell_type": "code",
   "execution_count": 3,
   "id": "bc9b7d76",
   "metadata": {},
   "outputs": [
    {
     "name": "stdout",
     "output_type": "stream",
     "text": [
      "c:\\Users\\tanma\\Desktop\\Udemy\\Complete DS course\\DS_practice\\Python\\modules and packaages\n"
     ]
    }
   ],
   "source": [
    "# getting the current working directory\n",
    "print(os.getcwd())"
   ]
  },
  {
   "cell_type": "code",
   "execution_count": 4,
   "id": "7c9def66",
   "metadata": {},
   "outputs": [],
   "source": [
    "# to create a folder\n",
    "os.mkdir(\"test_dir\")"
   ]
  },
  {
   "cell_type": "code",
   "execution_count": 5,
   "id": "5b9dfeb1",
   "metadata": {},
   "outputs": [],
   "source": [
    "# to remove a folder\n",
    "os.rmdir(\"test_dir\")"
   ]
  },
  {
   "cell_type": "code",
   "execution_count": null,
   "id": "01a1ca48",
   "metadata": {},
   "outputs": [],
   "source": [
    "# performing high level on files and collections of files we can use shutil \n",
    "import shutil"
   ]
  },
  {
   "cell_type": "code",
   "execution_count": 9,
   "id": "f102e644",
   "metadata": {},
   "outputs": [
    {
     "data": {
      "text/plain": [
       "'destination.txt'"
      ]
     },
     "execution_count": 9,
     "metadata": {},
     "output_type": "execute_result"
    }
   ],
   "source": [
    "# Copying a file and pasting into another file\n",
    "shutil.copyfile('C:/Users/tanma/Desktop/Udemy/Complete DS course/DS_practice/Python/sample_file.txt','destination.txt')"
   ]
  },
  {
   "cell_type": "code",
   "execution_count": 10,
   "id": "8476deb7",
   "metadata": {},
   "outputs": [],
   "source": [
    "# Data Serialization\n",
    "import json"
   ]
  },
  {
   "cell_type": "code",
   "execution_count": null,
   "id": "ee79f721",
   "metadata": {},
   "outputs": [
    {
     "name": "stdout",
     "output_type": "stream",
     "text": [
      "{\"name\": \"Tanmay Agarwal\", \"age\": 28}\n",
      "<class 'str'>\n"
     ]
    }
   ],
   "source": [
    "# creating dictionary\n",
    "data = {'name':'Tanmay Agarwal','age':28}\n",
    "json_str = json.dumps(data)  # This function converts python object into json format string\n",
    "print(json_str)\n",
    "print(type(json_str))"
   ]
  },
  {
   "cell_type": "code",
   "execution_count": 13,
   "id": "621c9d58",
   "metadata": {},
   "outputs": [
    {
     "name": "stdout",
     "output_type": "stream",
     "text": [
      "{'name': 'Tanmay Agarwal', 'age': 28}\n",
      "<class 'dict'>\n"
     ]
    }
   ],
   "source": [
    "# To convert the json format string to python\n",
    "obj = json.loads(json_str)\n",
    "print(obj)\n",
    "print(type(obj)) "
   ]
  },
  {
   "cell_type": "code",
   "execution_count": 14,
   "id": "11dc8aab",
   "metadata": {},
   "outputs": [],
   "source": [
    "# Library to work with csv file\n",
    "import csv"
   ]
  },
  {
   "cell_type": "code",
   "execution_count": null,
   "id": "ceb6de95",
   "metadata": {},
   "outputs": [],
   "source": [
    "# Writing some data into a csv file\n",
    "with open(\"example.csv\",mode='w',newline='')as file:\n",
    "    writer = csv.writer(file)\n",
    "    writer.writerow(['name','age'])\n",
    "    writer.writerow(['Tanmay',28])"
   ]
  },
  {
   "cell_type": "code",
   "execution_count": null,
   "id": "8a381114",
   "metadata": {},
   "outputs": [
    {
     "name": "stdout",
     "output_type": "stream",
     "text": [
      "name,age\n",
      "\n",
      "Tanmay,28\n",
      "\n"
     ]
    }
   ],
   "source": [
    "# reading data from csv file\n",
    "with open(\"example.csv\",mode='r') as file:\n",
    "    for line in file:\n",
    "        print(line)"
   ]
  },
  {
   "cell_type": "code",
   "execution_count": 18,
   "id": "b83c5942",
   "metadata": {},
   "outputs": [
    {
     "name": "stdout",
     "output_type": "stream",
     "text": [
      "['name', 'age']\n",
      "['Tanmay', '28']\n"
     ]
    }
   ],
   "source": [
    "# Another way to read data from csv file\n",
    "with open(\"example.csv\",mode='r') as file:\n",
    "    reader = csv.reader(file)\n",
    "    for row in reader:\n",
    "        print(row)"
   ]
  },
  {
   "cell_type": "code",
   "execution_count": 19,
   "id": "626b4027",
   "metadata": {},
   "outputs": [],
   "source": [
    "# Deleting the csv file and the destination.txt file we created using os library\n",
    "os.remove(\"example.csv\")\n",
    "os.remove(\"destination.txt\")"
   ]
  },
  {
   "cell_type": "code",
   "execution_count": 20,
   "id": "13fc126d",
   "metadata": {},
   "outputs": [],
   "source": [
    "# Working with dates and time using datetime library\n",
    "from datetime import datetime,date,time,timedelta"
   ]
  },
  {
   "cell_type": "code",
   "execution_count": null,
   "id": "356c3c87",
   "metadata": {},
   "outputs": [
    {
     "name": "stdout",
     "output_type": "stream",
     "text": [
      "2025-06-07 07:33:30.174085\n",
      "2025-06-07 07:33:30.174084\n",
      "2025-06-07\n"
     ]
    }
   ],
   "source": [
    "now = datetime.today() # returns similar output as now() function\n",
    "print(now)\n",
    "print(datetime.now()) # returns date with time\n",
    "print(datetime.date(datetime.now())) # gives only the date\n"
   ]
  },
  {
   "cell_type": "code",
   "execution_count": null,
   "id": "88dc44a3",
   "metadata": {},
   "outputs": [
    {
     "name": "stdout",
     "output_type": "stream",
     "text": [
      "2024-11-09 07:37:16.164359\n"
     ]
    }
   ],
   "source": [
    "# getting the date before or after a certain days\n",
    "print(datetime.now()-timedelta(weeks=30)) # This gives the date and time of the day 30 weeks before today"
   ]
  },
  {
   "cell_type": "markdown",
   "id": "058d0646",
   "metadata": {},
   "source": [
    "## Modules and Packages Assignment"
   ]
  },
  {
   "cell_type": "markdown",
   "id": "7152baa0",
   "metadata": {},
   "source": [
    "### Assignment 1: Importing and Using Modules\n",
    "\n",
    "Import the `math` module and use it to calculate the square root of 25 and the sine of 90 degrees.\n",
    "\n",
    "### Assignment 2: Aliasing Modules\n",
    "\n",
    "Import the `datetime` module with an alias and use it to print the current date and time.\n",
    "\n",
    "### Assignment 3: Importing Specific Functions\n",
    "\n",
    "Import the `randint` function from the `random` module and use it to generate a random integer between 1 and 100.\n",
    "\n",
    "### Assignment 4: Importing Multiple Functions\n",
    "\n",
    "Import the `sqrt` and `pow` functions from the `math` module and use them to calculate the square root of 16 and 2 raised to the power of 3."
   ]
  },
  {
   "cell_type": "code",
   "execution_count": 29,
   "id": "8f11d2d2",
   "metadata": {},
   "outputs": [],
   "source": [
    "# Solution for the above four questions\n",
    "import math\n",
    "from datetime import datetime as dt\n",
    "from random import randint\n",
    "from math import sqrt,pow"
   ]
  },
  {
   "cell_type": "code",
   "execution_count": 30,
   "id": "6a74667b",
   "metadata": {},
   "outputs": [
    {
     "name": "stdout",
     "output_type": "stream",
     "text": [
      "5.0\n",
      "0.8939966636005579\n",
      "2025-06-07 08:47:02.556223\n",
      "50\n",
      "4.0\n",
      "8.0\n"
     ]
    }
   ],
   "source": [
    "print(sqrt(25))\n",
    "print(math.sin(90))\n",
    "print(dt.now())\n",
    "print(randint(1,100))\n",
    "print(sqrt(16))\n",
    "print(pow(2,3))"
   ]
  },
  {
   "cell_type": "markdown",
   "id": "fac26947",
   "metadata": {},
   "source": [
    "### Assignment 5: Handling Import Errors\n",
    "\n",
    "Write code that attempts to import a non-existent module and gracefully handles the import error by printing an error message."
   ]
  },
  {
   "cell_type": "code",
   "execution_count": 46,
   "id": "890e1cc5",
   "metadata": {},
   "outputs": [],
   "source": [
    "def safe_import(module_name:str):\n",
    "    try:\n",
    "        __import__(module_name)\n",
    "        print(f\"{module_name} imported successfully\")\n",
    "    except ModuleNotFoundError:\n",
    "        print(f\"{module_name} module not found\")\n",
    "\n"
   ]
  },
  {
   "cell_type": "code",
   "execution_count": 44,
   "id": "bb88888a",
   "metadata": {},
   "outputs": [
    {
     "name": "stdout",
     "output_type": "stream",
     "text": [
      "pandas imported successfully\n"
     ]
    }
   ],
   "source": [
    "safe_import('pandas')"
   ]
  },
  {
   "cell_type": "code",
   "execution_count": 47,
   "id": "4c3cd644",
   "metadata": {},
   "outputs": [
    {
     "name": "stdout",
     "output_type": "stream",
     "text": [
      "nosql module not found\n"
     ]
    }
   ],
   "source": [
    "safe_import('nosql')"
   ]
  },
  {
   "cell_type": "markdown",
   "id": "e93db020",
   "metadata": {},
   "source": [
    "### Assignment 6: Working with the `os` Module\n",
    "\n",
    "Use the `os` module to create a new directory, list the contents of the current directory, and remove the newly created directory."
   ]
  },
  {
   "cell_type": "code",
   "execution_count": 31,
   "id": "8852c844",
   "metadata": {},
   "outputs": [],
   "source": [
    "import os"
   ]
  },
  {
   "cell_type": "code",
   "execution_count": 32,
   "id": "32c85ddc",
   "metadata": {},
   "outputs": [
    {
     "name": "stdout",
     "output_type": "stream",
     "text": [
      "['new_dir', 'package', 'python_modules_pack.ipynb']\n"
     ]
    }
   ],
   "source": [
    "#creating a new directory\n",
    "os.mkdir(\"new_dir\")\n",
    "\n",
    "# getting the contents of the current directory\n",
    "print(os.listdir())\n",
    "\n",
    "# removing the newly created directory\n",
    "os.rmdir(\"new_dir\")"
   ]
  },
  {
   "cell_type": "markdown",
   "id": "db022b84",
   "metadata": {},
   "source": [
    "### Assignment 7: Working with the `sys` Module\n",
    "\n",
    "Use the `sys` module to print the Python version currently in use and the command-line arguments passed to the script."
   ]
  },
  {
   "cell_type": "code",
   "execution_count": 33,
   "id": "9badccb7",
   "metadata": {},
   "outputs": [],
   "source": [
    "# importing the sys module\n",
    "import sys"
   ]
  },
  {
   "cell_type": "code",
   "execution_count": 35,
   "id": "377a2f98",
   "metadata": {},
   "outputs": [
    {
     "name": "stdout",
     "output_type": "stream",
     "text": [
      "3.12.0 | packaged by Anaconda, Inc. | (main, Oct  2 2023, 17:20:38) [MSC v.1916 64 bit (AMD64)]\n",
      "0 C:\\Users\\tanma\\AppData\\Roaming\\Python\\Python312\\site-packages\\ipykernel_launcher.py\n",
      "1 --f=c:\\Users\\tanma\\AppData\\Roaming\\jupyter\\runtime\\kernel-v37fb6e6b6c55bd79299b781106668fb15b58b78f1.json\n"
     ]
    }
   ],
   "source": [
    "# finding the current python version\n",
    "print(sys.version)\n",
    "\n",
    "# printing command line arguments passed to the script\n",
    "for i,arg in enumerate(sys.argv):\n",
    "    print(i,arg)"
   ]
  },
  {
   "cell_type": "markdown",
   "id": "3e53ab6e",
   "metadata": {},
   "source": [
    "### Assignment 8: Working with the `math` Module\n",
    "\n",
    "Use the `math` module to calculate the greatest common divisor (GCD) of two numbers and the factorial of a number.\n"
   ]
  },
  {
   "cell_type": "code",
   "execution_count": 36,
   "id": "42ad8908",
   "metadata": {},
   "outputs": [
    {
     "name": "stdout",
     "output_type": "stream",
     "text": [
      "9\n",
      "120\n"
     ]
    }
   ],
   "source": [
    "# getting the greatest common divisor of the two numbers\n",
    "print(math.gcd(27,72))\n",
    "\n",
    "# getting a factorial of a number\n",
    "print(math.factorial(5))"
   ]
  },
  {
   "cell_type": "markdown",
   "id": "6a99e5ad",
   "metadata": {},
   "source": [
    "### Assignment 9: Working with the `datetime` Module\n",
    "\n",
    "Use the `datetime` module to print the current date, calculate the date 100 days from today, and determine the day of the week for a given date."
   ]
  },
  {
   "cell_type": "code",
   "execution_count": 39,
   "id": "5a274d77",
   "metadata": {},
   "outputs": [
    {
     "name": "stdout",
     "output_type": "stream",
     "text": [
      "Today's Date = 2025-06-07\n",
      "Date of the day 100 days from now = 2025-09-15 which will be Monday of the week\n"
     ]
    }
   ],
   "source": [
    "# Printing today's date\n",
    "print(f\"Today's Date = {dt.date(dt.now())}\")\n",
    "\n",
    "# Calculating the date 100 days from today\n",
    "day_100 = dt.now()+timedelta(days=100)\n",
    "# determining the day of the week for a given date\n",
    "day_100_weekday = day_100.strftime('%A')\n",
    "\n",
    "print(f\"Date of the day 100 days from now = {dt.date(day_100)} which will be {day_100_weekday} of the week\")"
   ]
  },
  {
   "cell_type": "markdown",
   "id": "9a0a4e36",
   "metadata": {},
   "source": [
    "### Assignment 10: Working with the `random` Module\n",
    "\n",
    "Use the `random` module to generate a list of 5 random numbers between 1 and 50 and shuffle the elements of a list."
   ]
  },
  {
   "cell_type": "code",
   "execution_count": 40,
   "id": "2a680aaf",
   "metadata": {},
   "outputs": [],
   "source": [
    "import random"
   ]
  },
  {
   "cell_type": "code",
   "execution_count": 42,
   "id": "707267a4",
   "metadata": {},
   "outputs": [
    {
     "name": "stdout",
     "output_type": "stream",
     "text": [
      "[2, 5, 38, 43, 37]\n",
      "[37, 43, 5, 38, 2]\n"
     ]
    }
   ],
   "source": [
    "numbers = random.sample(range(1,50),5)\n",
    "print(numbers)\n",
    "random.shuffle(numbers)\n",
    "print(numbers)"
   ]
  },
  {
   "cell_type": "code",
   "execution_count": null,
   "id": "6c9948de",
   "metadata": {},
   "outputs": [],
   "source": []
  },
  {
   "cell_type": "code",
   "execution_count": null,
   "id": "ffc038c4",
   "metadata": {},
   "outputs": [],
   "source": []
  },
  {
   "cell_type": "markdown",
   "id": "3d7af703",
   "metadata": {},
   "source": []
  }
 ],
 "metadata": {
  "kernelspec": {
   "display_name": "Python 3",
   "language": "python",
   "name": "python3"
  },
  "language_info": {
   "codemirror_mode": {
    "name": "ipython",
    "version": 3
   },
   "file_extension": ".py",
   "mimetype": "text/x-python",
   "name": "python",
   "nbconvert_exporter": "python",
   "pygments_lexer": "ipython3",
   "version": "3.12.0"
  }
 },
 "nbformat": 4,
 "nbformat_minor": 5
}
