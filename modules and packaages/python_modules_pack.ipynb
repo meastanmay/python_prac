{
 "cells": [
  {
   "cell_type": "markdown",
   "id": "5b049a47",
   "metadata": {},
   "source": [
    "# Modules and Packages\n",
    "In Python Modules and packages contain set of functions related to particular type use case e.g. pandas, numpy, scikit-learn, etc. are few of the very popular libraries containing modules/packages useful for Data manipulation, Data Analytics and Machine Learning."
   ]
  },
  {
   "cell_type": "markdown",
   "id": "fa96343b",
   "metadata": {},
   "source": [
    "### Creating custom package or module\n",
    "\n",
    "Let us first understand the difference between Library, module and package.\n",
    "- **Library:** It is a collection of multiple modules or packages\n",
    "- **Package:** It is a collection of one or more modules. The modules created in a package are grouped in such a way that they are mostly utilized for common use cases. A package is initialized by **__ init __.py** file. This allows the user to directly import the modules or functions and use them within their workspace.\n",
    "- **Module:** We could say this is the smallest unit of the hierarchy. A module is a python file where we define one or more functions."
   ]
  },
  {
   "cell_type": "code",
   "execution_count": 6,
   "id": "637b7f3e",
   "metadata": {},
   "outputs": [
    {
     "name": "stdout",
     "output_type": "stream",
     "text": [
      "35\n",
      "-1\n",
      "12\n",
      "4.0\n"
     ]
    }
   ],
   "source": [
    "# Now we will import all the function we defined in the math module of our package\n",
    "from package.math import *\n",
    "\n",
    "print(add(2,3,4,7,9,10))\n",
    "print(sub(2,3))\n",
    "print(multiply(4,3))\n",
    "print(division(12,3))"
   ]
  },
  {
   "cell_type": "markdown",
   "id": "47b0595e",
   "metadata": {},
   "source": [
    "**To create a subpackage the process remains the same. we need to create a subfolder within the package folder. Intialize it with __ init __.py file and create one or more modules.**"
   ]
  },
  {
   "cell_type": "code",
   "execution_count": 17,
   "id": "c57fe2f1",
   "metadata": {},
   "outputs": [],
   "source": [
    "from package.subpackage.stats import *"
   ]
  },
  {
   "cell_type": "code",
   "execution_count": 19,
   "id": "19f69fe4",
   "metadata": {},
   "outputs": [
    {
     "data": {
      "text/plain": [
       "<module 'package.subpackage.stats' from 'c:\\\\Users\\\\tanma\\\\Desktop\\\\Udemy\\\\Complete DS course\\\\DS_practice\\\\Python\\\\modules and packaages\\\\package\\\\subpackage\\\\stats.py'>"
      ]
     },
     "execution_count": 19,
     "metadata": {},
     "output_type": "execute_result"
    }
   ],
   "source": [
    "import importlib\n",
    "from package.subpackage import stats\n",
    "importlib.reload(stats)"
   ]
  },
  {
   "cell_type": "code",
   "execution_count": 20,
   "id": "d49ab812",
   "metadata": {},
   "outputs": [
    {
     "name": "stdout",
     "output_type": "stream",
     "text": [
      "Minimum:1\n",
      "Mean:11.833333333333334\n",
      "Median:14.5\n",
      "Maximum:34\n"
     ]
    }
   ],
   "source": [
    "stats.five_point_summary([2,1,34,23,5,6])"
   ]
  },
  {
   "cell_type": "code",
   "execution_count": null,
   "id": "48413535",
   "metadata": {},
   "outputs": [],
   "source": []
  },
  {
   "cell_type": "code",
   "execution_count": null,
   "id": "bc9b7d76",
   "metadata": {},
   "outputs": [],
   "source": []
  },
  {
   "cell_type": "markdown",
   "id": "058d0646",
   "metadata": {},
   "source": []
  }
 ],
 "metadata": {
  "kernelspec": {
   "display_name": "Python 3",
   "language": "python",
   "name": "python3"
  },
  "language_info": {
   "codemirror_mode": {
    "name": "ipython",
    "version": 3
   },
   "file_extension": ".py",
   "mimetype": "text/x-python",
   "name": "python",
   "nbconvert_exporter": "python",
   "pygments_lexer": "ipython3",
   "version": "3.12.0"
  }
 },
 "nbformat": 4,
 "nbformat_minor": 5
}
