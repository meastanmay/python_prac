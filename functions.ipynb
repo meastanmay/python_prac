{
 "cells": [
  {
   "cell_type": "markdown",
   "id": "4585d617",
   "metadata": {},
   "source": [
    "## Functions\n",
    "Function is a block of code that conducts a specific task. Functions help in better organization of the code, reuse code and improve readability.\n",
    "\n",
    "There are different types of functions that can be used in python:\n",
    "- In-Built functions\n",
    "- User Defined Functions"
   ]
  },
  {
   "cell_type": "code",
   "execution_count": 1,
   "id": "24a7e6e3",
   "metadata": {},
   "outputs": [
    {
     "name": "stdout",
     "output_type": "stream",
     "text": [
      "Number is odd\n"
     ]
    }
   ],
   "source": [
    "# Example 1\n",
    "# Finding if a number is even or odd\n",
    "a = 5\n",
    "if a%2!=0:\n",
    "    print(\"Number is odd\")\n",
    "else:\n",
    "    print(\"Number is even\")"
   ]
  },
  {
   "cell_type": "code",
   "execution_count": 4,
   "id": "d131b939",
   "metadata": {},
   "outputs": [],
   "source": [
    "# In the above example we were able to find if the number is even or odd\n",
    "# But we need to write the same code again and again if we have to do the same task multiple number of times\n",
    "# Now we will create a function to do the above task, which could be reused whenever there is a requirement.\n",
    "\n",
    "def even_or_odd(number):\n",
    "    if number%2!=0:\n",
    "        return 'odd'\n",
    "    else:\n",
    "        return 'even'\n"
   ]
  },
  {
   "cell_type": "code",
   "execution_count": 5,
   "id": "66594a2c",
   "metadata": {},
   "outputs": [
    {
     "name": "stdout",
     "output_type": "stream",
     "text": [
      "6 is even\n"
     ]
    }
   ],
   "source": [
    "a2 = 6\n",
    "print(f\"{a2} is {even_or_odd(a2)}\")"
   ]
  },
  {
   "cell_type": "code",
   "execution_count": 6,
   "id": "ab56ead3",
   "metadata": {},
   "outputs": [],
   "source": [
    "# Providing multiple arguments in the function\n",
    "\n",
    "def add(a,b):\n",
    "    return a+b"
   ]
  },
  {
   "cell_type": "code",
   "execution_count": 7,
   "id": "7d50c51c",
   "metadata": {},
   "outputs": [
    {
     "name": "stdout",
     "output_type": "stream",
     "text": [
      "Sum of numbers 6 and 7 = 13\n"
     ]
    }
   ],
   "source": [
    "print(f\"Sum of numbers 6 and 7 = {add(6,7)}\")"
   ]
  },
  {
   "cell_type": "code",
   "execution_count": 9,
   "id": "2a2b346f",
   "metadata": {},
   "outputs": [],
   "source": [
    "# Providing default arguments in the function definition\n",
    "def greet(name='Guest'): # Here name argument has a default value 'Guest' so if someone doesn't explicitly provide the value while call the function it will fetch Guest as its value\n",
    "    print(f\"Hello {name}! Welcome to the hotel!\")\n"
   ]
  },
  {
   "cell_type": "code",
   "execution_count": 10,
   "id": "d8342381",
   "metadata": {},
   "outputs": [
    {
     "name": "stdout",
     "output_type": "stream",
     "text": [
      "Hello Tanmay! Welcome to the hotel!\n"
     ]
    }
   ],
   "source": [
    "greet('Tanmay')"
   ]
  },
  {
   "cell_type": "code",
   "execution_count": 11,
   "id": "19b035d6",
   "metadata": {},
   "outputs": [
    {
     "name": "stdout",
     "output_type": "stream",
     "text": [
      "Hello Guest! Welcome to the hotel!\n"
     ]
    }
   ],
   "source": [
    "greet() # In this case since no argument is provided to the function call, it will return the default value assigned to the parameter"
   ]
  },
  {
   "cell_type": "code",
   "execution_count": 14,
   "id": "3072e792",
   "metadata": {},
   "outputs": [],
   "source": [
    "## Variable Length Arguments\n",
    "### Positional Arguments\n",
    "def print_number(*args):\n",
    "    '''In positional arguments \n",
    "    we can provide n number of \n",
    "    argument values and can \n",
    "    fetch it within the function'''\n",
    "    for n in args:\n",
    "        print(n)\n",
    "### Keyword Arguments\n",
    "def person_details(**kwargs):\n",
    "    '''In the Keyword Arguments\n",
    "    we can provide multiple keyword and their respective values\n",
    "    as the argument in the function defination and can fetch each one of them\n",
    "    within the function'''\n",
    "    for key,value in kwargs.items():\n",
    "        print(key,value)"
   ]
  },
  {
   "cell_type": "code",
   "execution_count": 13,
   "id": "a003a89a",
   "metadata": {},
   "outputs": [
    {
     "name": "stdout",
     "output_type": "stream",
     "text": [
      "1\n",
      "2\n",
      "3\n",
      "5\n",
      "6\n"
     ]
    }
   ],
   "source": [
    "print_number(1,2,3,5,6)"
   ]
  },
  {
   "cell_type": "code",
   "execution_count": 15,
   "id": "2fb28f53",
   "metadata": {},
   "outputs": [
    {
     "name": "stdout",
     "output_type": "stream",
     "text": [
      "name Tanmay\n",
      "age 28\n"
     ]
    }
   ],
   "source": [
    "person_details(name='Tanmay',age=28)"
   ]
  },
  {
   "cell_type": "markdown",
   "id": "645db547",
   "metadata": {},
   "source": [
    "### More Examples of functions"
   ]
  },
  {
   "cell_type": "code",
   "execution_count": 18,
   "id": "175cd09a",
   "metadata": {},
   "outputs": [],
   "source": [
    "# Converting temperatures between Farenheit and Celcius\n",
    "def temp_conv(temp,temp_in,convert_to):\n",
    "    if temp_in==convert_to:\n",
    "        if temp_in=='C':\n",
    "            print(f\"Temperature in Celcius={temp: .3f}\")\n",
    "        else:\n",
    "            print(f\"Temperature in Farenheit={temp: .3f}\")\n",
    "    else:\n",
    "        if temp_in=='C':\n",
    "            new_temp = (9/5)*temp + 32\n",
    "            print(f\"Temperature in Farenheit={new_temp: .3f}\")\n",
    "        else:\n",
    "            new_temp = (temp-32)*(5/9)\n",
    "            print(f\"Temperature in Celsius = {new_temp: .3f}\")"
   ]
  },
  {
   "cell_type": "code",
   "execution_count": 19,
   "id": "c0ec4d12",
   "metadata": {},
   "outputs": [
    {
     "name": "stdout",
     "output_type": "stream",
     "text": [
      "Temperature in Farenheit= 98.600\n"
     ]
    }
   ],
   "source": [
    "print(temp_conv(37,'C','F'))"
   ]
  },
  {
   "cell_type": "code",
   "execution_count": 20,
   "id": "5fa57edd",
   "metadata": {},
   "outputs": [
    {
     "name": "stdout",
     "output_type": "stream",
     "text": [
      "Temperature in Celcius= 37.000\n"
     ]
    }
   ],
   "source": [
    "temp_conv(37,'C','C')"
   ]
  },
  {
   "cell_type": "code",
   "execution_count": 21,
   "id": "9dd065f1",
   "metadata": {},
   "outputs": [
    {
     "name": "stdout",
     "output_type": "stream",
     "text": [
      "Temperature in Celsius =  37.000\n"
     ]
    }
   ],
   "source": [
    "temp_conv(98.6,'F','C')"
   ]
  },
  {
   "cell_type": "code",
   "execution_count": null,
   "id": "9597721e",
   "metadata": {},
   "outputs": [],
   "source": [
    "# Example 2: Password Strength Checker\n",
    "def is_strong_pass(password):\n",
    "    '''This function checks if\n",
    "    the password is strong or not'''\n",
    "    if len(password)<10:\n",
    "        return False\n",
    "    elif not any(char.isdigit() for char in password):\n",
    "        return False\n",
    "    elif not any(char.isupper() for char in password):\n",
    "        return False\n",
    "    elif \n"
   ]
  },
  {
   "cell_type": "code",
   "execution_count": 1,
   "id": "c6ccd2bc",
   "metadata": {},
   "outputs": [],
   "source": [
    "# Calculating the total cost of items in the cart\n",
    "\n",
    "def total_cart_value(cart:list):\n",
    "    total_sum = 0\n",
    "    for items in cart:\n",
    "        total_sum+=items['price']*items['quantity']\n",
    "    return total_sum\n"
   ]
  },
  {
   "cell_type": "code",
   "execution_count": 3,
   "id": "eecefad5",
   "metadata": {},
   "outputs": [
    {
     "name": "stdout",
     "output_type": "stream",
     "text": [
      "Total cart value = 225\n"
     ]
    }
   ],
   "source": [
    "cart_1 = [\n",
    "    {'name':'Banana','price':12,'quantity':10},\n",
    "    {'name':'Cabbage','price':25,'quantity':1},\n",
    "    {'name':'Kiwi','price':80,'quantity':1}\n",
    "]\n",
    "\n",
    "print(f\"Total cart value = {total_cart_value(cart_1)}\")"
   ]
  },
  {
   "cell_type": "code",
   "execution_count": 4,
   "id": "d208f500",
   "metadata": {},
   "outputs": [],
   "source": [
    "# Checking if a string is a pallindrome or not\n",
    "def is_pallindrome(str1:str):\n",
    "    if str1 == str1[::-1]:\n",
    "        return True\n",
    "    else:\n",
    "        return False"
   ]
  },
  {
   "cell_type": "code",
   "execution_count": 5,
   "id": "6aedef99",
   "metadata": {},
   "outputs": [
    {
     "data": {
      "text/plain": [
       "True"
      ]
     },
     "execution_count": 5,
     "metadata": {},
     "output_type": "execute_result"
    }
   ],
   "source": [
    "is_pallindrome('ava')"
   ]
  },
  {
   "cell_type": "code",
   "execution_count": 6,
   "id": "7de93ef0",
   "metadata": {},
   "outputs": [],
   "source": [
    "# Calculate the factorials of a number using recursion\n",
    "def factorial(n:int):\n",
    "    if n==1 or n==0:\n",
    "        return 1\n",
    "    elif n>1:\n",
    "        return n*factorial(n-1)\n",
    "    "
   ]
  },
  {
   "cell_type": "code",
   "execution_count": 11,
   "id": "159226cb",
   "metadata": {},
   "outputs": [
    {
     "data": {
      "text/plain": [
       "(1, 1, 120, 362880)"
      ]
     },
     "execution_count": 11,
     "metadata": {},
     "output_type": "execute_result"
    }
   ],
   "source": [
    "factorial(0),factorial(1),factorial(5),factorial(9)"
   ]
  },
  {
   "cell_type": "code",
   "execution_count": 12,
   "id": "022c9325",
   "metadata": {},
   "outputs": [],
   "source": [
    "# Function to read a file and count the frequency of each word in the file\n",
    "\n",
    "def word_freq(file_path:str):\n",
    "    word_count={}\n",
    "    with open(file_path,'r') as file:\n",
    "        for line in file:\n",
    "            words = line.split()\n",
    "            for word in words:\n",
    "                word = word.lower().strip('.,/;:\"!^?')\n",
    "                word_count[word]=word_count.get(word,0)+1\n",
    "\n",
    "    return word_count\n",
    "            "
   ]
  },
  {
   "cell_type": "code",
   "execution_count": 14,
   "id": "1ef6c951",
   "metadata": {},
   "outputs": [
    {
     "data": {
      "text/plain": [
       "{'hello': 1,\n",
       " 'this': 1,\n",
       " 'is': 2,\n",
       " 'a': 2,\n",
       " 'sample': 1,\n",
       " 'file': 1,\n",
       " 'to': 1,\n",
       " 'test': 1,\n",
       " 'the': 1,\n",
       " 'working': 1,\n",
       " 'of': 1,\n",
       " 'function': 1,\n",
       " 'my': 1,\n",
       " 'name': 1,\n",
       " 'tanmay': 1,\n",
       " 'agarwal': 1,\n",
       " 'and': 1,\n",
       " 'i': 1,\n",
       " 'am': 1,\n",
       " 'currently': 1,\n",
       " 'revising': 1,\n",
       " 'python': 1,\n",
       " 'programming': 1,\n",
       " 'thank': 1,\n",
       " 'you': 1}"
      ]
     },
     "execution_count": 14,
     "metadata": {},
     "output_type": "execute_result"
    }
   ],
   "source": [
    "file_path = \"sample_file.txt\"\n",
    "word_freq(file_path)"
   ]
  },
  {
   "cell_type": "markdown",
   "id": "72ac0880",
   "metadata": {},
   "source": [
    "## Lambda Functions\n",
    "Lambda Functions are small Anonymous functions (i.e. We do not provide name to this function while defining) defined using the keyword Lambda. This functions can have multiple arguments but only one expression. These functions are used to relatively simple tasks or used as an argument for other higher order functions in python.\n",
    "\n",
    "**Syntax: lambda argument: expession**"
   ]
  },
  {
   "cell_type": "code",
   "execution_count": 15,
   "id": "a3e09664",
   "metadata": {},
   "outputs": [],
   "source": [
    "# Example 1\n",
    "# Creating a function to multiply any two numbers\n",
    "def multiply(a,b):\n",
    "    return a*b\n",
    "\n",
    "# The above is the usual way of defining a function\n",
    "# Defining the multiply function using lambda functions\n",
    "multiply_new =lambda a,b: a*b"
   ]
  },
  {
   "cell_type": "code",
   "execution_count": 16,
   "id": "e305787a",
   "metadata": {},
   "outputs": [
    {
     "data": {
      "text/plain": [
       "(function, function)"
      ]
     },
     "execution_count": 16,
     "metadata": {},
     "output_type": "execute_result"
    }
   ],
   "source": [
    "# Now let us check the type of the above two functions we created\n",
    "type(multiply),type(multiply_new)"
   ]
  },
  {
   "cell_type": "code",
   "execution_count": 17,
   "id": "a299d2e3",
   "metadata": {},
   "outputs": [
    {
     "data": {
      "text/plain": [
       "6"
      ]
     },
     "execution_count": 17,
     "metadata": {},
     "output_type": "execute_result"
    }
   ],
   "source": [
    "# Using the lambda function with one example\n",
    "multiply_new(2,3)"
   ]
  },
  {
   "cell_type": "markdown",
   "id": "9f5f10d2",
   "metadata": {},
   "source": [
    "## Map Function\n",
    "Map function in python is a function which allows to other function to get implemented on each element of an iterable. This particular function performs a lazy evaluation and does not directly gives an output after the implementation. It stores the operation in the memory."
   ]
  },
  {
   "cell_type": "code",
   "execution_count": 22,
   "id": "3bbf47ea",
   "metadata": {},
   "outputs": [
    {
     "name": "stdout",
     "output_type": "stream",
     "text": [
      "4\n",
      "144\n",
      "16\n",
      "25\n",
      "1156\n",
      "[4, 144, 16, 25, 1156]\n",
      "[4, 144, 16, 25, 1156]\n"
     ]
    }
   ],
   "source": [
    "# Example 1\n",
    "\n",
    "# Defining a function for calculating the square of a number\n",
    "square = lambda x:x**2\n",
    "\n",
    "# Let us suppose we have a list of random numbers\n",
    "l1 = [2,12,4,5,34]\n",
    "\n",
    "# To find squares of all the numbers in the list there can be multiple ways\n",
    "## Method 1: Using normal for loop\n",
    "\n",
    "for i in l1:\n",
    "    print(square(i))\n",
    "\n",
    "## Method 2: Using List comprehension\n",
    "print([square(i) for i in l1])\n",
    "\n",
    "## Method 3: Using Map() function\n",
    "print(list(map(square,l1))) # Here the map functions applied the square function to all the items in the list l1"
   ]
  },
  {
   "cell_type": "code",
   "execution_count": 23,
   "id": "3b965cc8",
   "metadata": {},
   "outputs": [
    {
     "name": "stdout",
     "output_type": "stream",
     "text": [
      "[6, 10, 9]\n"
     ]
    }
   ],
   "source": [
    "# Mapping multiple iterables \n",
    "# Example: Here we will add items from two different list using map function\n",
    "num_1 = [2,4,1]\n",
    "num_2 = [4,6,8]\n",
    "print(list(map(lambda x,y:x+y,num_1,num_2)))"
   ]
  },
  {
   "cell_type": "code",
   "execution_count": 24,
   "id": "546ebb28",
   "metadata": {},
   "outputs": [
    {
     "name": "stdout",
     "output_type": "stream",
     "text": [
      "['BANANA', 'APPLE', 'KIWI', 'ORANGE']\n"
     ]
    }
   ],
   "source": [
    "# Example: Converting each of the strings in a list to uppercase \n",
    "fruits = ['Banana','Apple','Kiwi','Orange']\n",
    "print(list(map(str.upper,fruits)))"
   ]
  },
  {
   "cell_type": "markdown",
   "id": "a39ec913",
   "metadata": {},
   "source": [
    "## Filter Function\n",
    "Filter function constructs an iterator from elements of an iterable for which a function returns True. It is used to filter out items from a list(or any other iterable) based on a condition."
   ]
  },
  {
   "cell_type": "code",
   "execution_count": 26,
   "id": "a52c5005",
   "metadata": {},
   "outputs": [
    {
     "name": "stdout",
     "output_type": "stream",
     "text": [
      "[2, 4, 6, 8, 10, 12, 14, 16, 18, 20, 22, 24, 26, 28]\n"
     ]
    }
   ],
   "source": [
    "# Example 1: To filter out only the even numbers from a list of numbers\n",
    "num_list = [i for i in range(1,30)]\n",
    "print(list(filter(lambda x:x%2==0,num_list)))"
   ]
  },
  {
   "cell_type": "code",
   "execution_count": 27,
   "id": "b6592571",
   "metadata": {},
   "outputs": [
    {
     "data": {
      "text/plain": [
       "[{'name': 'Tanmay', 'age': 28}, {'name': 'Vishal', 'age': 28}]"
      ]
     },
     "execution_count": 27,
     "metadata": {},
     "output_type": "execute_result"
    }
   ],
   "source": [
    "# Example 2: Filter out the people with age greater than 25\n",
    "people = [\n",
    "    {'name':'Tanmay','age':28},\n",
    "    {'name':'Abhinav','age':21},\n",
    "    {'name':'Vishal','age':28}\n",
    "]\n",
    "\n",
    "list(filter(lambda x:x['age']>25,people)) "
   ]
  },
  {
   "cell_type": "markdown",
   "id": "2364a34d",
   "metadata": {},
   "source": [
    "### Assignment 1: Fibonacci Sequence with Memoization\n",
    "\n",
    "Define a recursive function to calculate the nth Fibonacci number using memoization. Test the function with different inputs."
   ]
  },
  {
   "cell_type": "code",
   "execution_count": 28,
   "id": "c7e55bb6",
   "metadata": {},
   "outputs": [],
   "source": [
    "def fibonacci(n):\n",
    "    if n==0 or n==1:\n",
    "        return 1\n",
    "    else:\n",
    "        return fibonacci(n-1)+fibonacci(n-2)"
   ]
  },
  {
   "cell_type": "code",
   "execution_count": 31,
   "id": "094c4948",
   "metadata": {},
   "outputs": [
    {
     "data": {
      "text/plain": [
       "5"
      ]
     },
     "execution_count": 31,
     "metadata": {},
     "output_type": "execute_result"
    }
   ],
   "source": [
    "fibonacci(4)"
   ]
  },
  {
   "cell_type": "markdown",
   "id": "be1a1de7",
   "metadata": {},
   "source": [
    "### Assignment 2: Function with Nested Default Arguments\n",
    "\n",
    "Define a function that takes two arguments, a and b, where b is a dictionary with a default value of an empty dictionary. The function should add a new key-value pair to the dictionary and return it. Test the function with different inputs."
   ]
  },
  {
   "cell_type": "code",
   "execution_count": 34,
   "id": "82b0f718",
   "metadata": {},
   "outputs": [],
   "source": [
    "def add_item_to_dict(a,b=None):\n",
    "    '''this function adds a as the key to an empty dictionary.\n",
    "    We have used None as the default value here for b because \n",
    "    if we provide an empty list then whenever the function is \n",
    "    called the previous value of the dictionary will persist'''\n",
    "    if b==None:\n",
    "        b={}\n",
    "    b[a]=f\"value_for_{a}\"\n",
    "    return b\n",
    "\n"
   ]
  },
  {
   "cell_type": "code",
   "execution_count": 35,
   "id": "2846bc35",
   "metadata": {},
   "outputs": [
    {
     "data": {
      "text/plain": [
       "{'name': 'value_for_name'}"
      ]
     },
     "execution_count": 35,
     "metadata": {},
     "output_type": "execute_result"
    }
   ],
   "source": [
    "add_item_to_dict('name')"
   ]
  },
  {
   "cell_type": "markdown",
   "id": "2fd71233",
   "metadata": {},
   "source": [
    "### Assignment 3: Function with Variable Keyword Arguments\n",
    "\n",
    "Define a function that takes a variable number of keyword arguments and returns a dictionary containing only those key-value pairs where the value is an integer. Test the function with different inputs."
   ]
  },
  {
   "cell_type": "code",
   "execution_count": 40,
   "id": "f71e443b",
   "metadata": {},
   "outputs": [],
   "source": [
    "def num_val_dict(**kwargs):\n",
    "    dict_1 = {}\n",
    "    for key,value in kwargs.items():\n",
    "        if type(value)==int:\n",
    "            dict_1[key]=value\n",
    "        else:\n",
    "            continue\n",
    "    return dict_1"
   ]
  },
  {
   "cell_type": "code",
   "execution_count": 41,
   "id": "9659b68e",
   "metadata": {},
   "outputs": [
    {
     "data": {
      "text/plain": [
       "{'var_1': 1, 'var_2': 2}"
      ]
     },
     "execution_count": 41,
     "metadata": {},
     "output_type": "execute_result"
    }
   ],
   "source": [
    "num_val_dict(var_1=1,var_2=2)"
   ]
  },
  {
   "cell_type": "code",
   "execution_count": 42,
   "id": "29f54ea8",
   "metadata": {},
   "outputs": [
    {
     "data": {
      "text/plain": [
       "{'age': 28, 'height': 175}"
      ]
     },
     "execution_count": 42,
     "metadata": {},
     "output_type": "execute_result"
    }
   ],
   "source": [
    "num_val_dict(name='Tanmay',age=28,height=175,city='Jaipur')"
   ]
  },
  {
   "cell_type": "markdown",
   "id": "5ef4e268",
   "metadata": {},
   "source": [
    "### Assignment 4: Function with Callback\n",
    "\n",
    "Define a function that takes another function as a callback and a list of integers. The function should apply the callback to each integer in the list and return a new list with the results. Test with different callback functions."
   ]
  },
  {
   "cell_type": "code",
   "execution_count": 43,
   "id": "2d59b6b7",
   "metadata": {},
   "outputs": [],
   "source": [
    "def squared(n):\n",
    "    return n**2\n",
    "def sum_square_nums(nums:list):\n",
    "    return sum(map(squared,nums))"
   ]
  },
  {
   "cell_type": "code",
   "execution_count": 44,
   "id": "92113439",
   "metadata": {},
   "outputs": [
    {
     "data": {
      "text/plain": [
       "285"
      ]
     },
     "execution_count": 44,
     "metadata": {},
     "output_type": "execute_result"
    }
   ],
   "source": [
    "l1 = [i for i in range(1,10)]\n",
    "sum_square_nums(l1)"
   ]
  },
  {
   "cell_type": "code",
   "execution_count": 46,
   "id": "e429f35f",
   "metadata": {},
   "outputs": [],
   "source": [
    "l1 = [1,2,3]\n",
    "l2 = [1,2,3,4,5]\n",
    "\n",
    "def is_subset(l1:list,l2:list):\n",
    "    is_sub = True\n",
    "    for i in l1:\n",
    "        if i in l2:\n",
    "            continue\n",
    "        else:\n",
    "            is_sub=False\n",
    "    return is_sub"
   ]
  },
  {
   "cell_type": "code",
   "execution_count": 47,
   "id": "bd0d6603",
   "metadata": {},
   "outputs": [
    {
     "data": {
      "text/plain": [
       "True"
      ]
     },
     "execution_count": 47,
     "metadata": {},
     "output_type": "execute_result"
    }
   ],
   "source": [
    "is_subset(l1,l2)"
   ]
  },
  {
   "cell_type": "markdown",
   "id": "d60ea396",
   "metadata": {},
   "source": [
    "## Tricky Questions"
   ]
  },
  {
   "cell_type": "markdown",
   "id": "ee5dfa6b",
   "metadata": {},
   "source": [
    "### Merge Two Sorted Lists\n",
    "You are given two sorted lists of integers. Write a Python function to merge these two sorted lists into one sorted list. The resulting list should also be in non-decreasing order.\n",
    "\n",
    "Parameters:\n",
    "\n",
    "list1 (List of integers): The first sorted list.\n",
    "\n",
    "list2 (List of integers): The second sorted list.\n",
    "\n",
    "Returns:\n",
    "\n",
    "A single list of integers, containing all elements from list1 and list2, sorted in non-decreasing order.\n",
    "\n",
    "Example:\n",
    "\n",
    "Input: list1 = [1, 3, 5], list2 = [2, 4, 6]\n",
    "Output: [1, 2, 3, 4, 5, 6]\n",
    "\n",
    "Input: list1 = [1, 4, 7], list2 = [2, 3, 5, 8]\n",
    "Output: [1, 2, 3, 4, 5, 7, 8]"
   ]
  },
  {
   "cell_type": "code",
   "execution_count": 48,
   "id": "13d0d0f6",
   "metadata": {},
   "outputs": [],
   "source": [
    "def merge_two_sorted_lists(list1, list2):\n",
    "    # Your code goes here\n",
    "    new_list = []\n",
    "    i,j=0,0\n",
    "    \n",
    "    while i<len(list1) and j<len(list2):\n",
    "            if list1[i]<=list2[j]:\n",
    "                new_list.append(list1[i])\n",
    "                i+=1\n",
    "            else:\n",
    "                new_list.append(list2[j])\n",
    "                j+=1\n",
    "    \n",
    "    new_list.extend(list1[i:])\n",
    "    new_list.extend(list2[j:])\n",
    "    return new_list\n"
   ]
  },
  {
   "cell_type": "markdown",
   "id": "de09d8f1",
   "metadata": {},
   "source": []
  }
 ],
 "metadata": {
  "kernelspec": {
   "display_name": "Python 3",
   "language": "python",
   "name": "python3"
  },
  "language_info": {
   "codemirror_mode": {
    "name": "ipython",
    "version": 3
   },
   "file_extension": ".py",
   "mimetype": "text/x-python",
   "name": "python",
   "nbconvert_exporter": "python",
   "pygments_lexer": "ipython3",
   "version": "3.12.0"
  }
 },
 "nbformat": 4,
 "nbformat_minor": 5
}
