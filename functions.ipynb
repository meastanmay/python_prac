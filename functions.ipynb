{
 "cells": [
  {
   "cell_type": "markdown",
   "id": "4585d617",
   "metadata": {},
   "source": [
    "## Functions\n",
    "Function is a block of code that conducts a specific task. Functions help in better organization of the code, reuse code and improve readability.\n",
    "\n",
    "There are different types of functions that can be used in python:\n",
    "- In-Built functions\n",
    "- User Defined Functions"
   ]
  },
  {
   "cell_type": "markdown",
   "id": "6f30345d",
   "metadata": {},
   "source": []
  },
  {
   "cell_type": "code",
   "execution_count": 1,
   "id": "24a7e6e3",
   "metadata": {},
   "outputs": [
    {
     "name": "stdout",
     "output_type": "stream",
     "text": [
      "Number is odd\n"
     ]
    }
   ],
   "source": [
    "# Example 1\n",
    "# Finding if a number is even or odd\n",
    "a = 5\n",
    "if a%2!=0:\n",
    "    print(\"Number is odd\")\n",
    "else:\n",
    "    print(\"Number is even\")"
   ]
  },
  {
   "cell_type": "code",
   "execution_count": 4,
   "id": "d131b939",
   "metadata": {},
   "outputs": [],
   "source": [
    "# In the above example we were able to find if the number is even or odd\n",
    "# But we need to write the same code again and again if we have to do the same task multiple number of times\n",
    "# Now we will create a function to do the above task, which could be reused whenever there is a requirement.\n",
    "\n",
    "def even_or_odd(number):\n",
    "    if number%2!=0:\n",
    "        return 'odd'\n",
    "    else:\n",
    "        return 'even'\n"
   ]
  },
  {
   "cell_type": "code",
   "execution_count": 5,
   "id": "66594a2c",
   "metadata": {},
   "outputs": [
    {
     "name": "stdout",
     "output_type": "stream",
     "text": [
      "6 is even\n"
     ]
    }
   ],
   "source": [
    "a2 = 6\n",
    "print(f\"{a2} is {even_or_odd(a2)}\")"
   ]
  },
  {
   "cell_type": "code",
   "execution_count": 6,
   "id": "ab56ead3",
   "metadata": {},
   "outputs": [],
   "source": [
    "# Providing multiple arguments in the function\n",
    "\n",
    "def add(a,b):\n",
    "    return a+b"
   ]
  },
  {
   "cell_type": "code",
   "execution_count": 7,
   "id": "7d50c51c",
   "metadata": {},
   "outputs": [
    {
     "name": "stdout",
     "output_type": "stream",
     "text": [
      "Sum of numbers 6 and 7 = 13\n"
     ]
    }
   ],
   "source": [
    "print(f\"Sum of numbers 6 and 7 = {add(6,7)}\")"
   ]
  },
  {
   "cell_type": "code",
   "execution_count": 9,
   "id": "2a2b346f",
   "metadata": {},
   "outputs": [],
   "source": [
    "# Providing default arguments in the function definition\n",
    "def greet(name='Guest'): # Here name argument has a default value 'Guest' so if someone doesn't explicitly provide the value while call the function it will fetch Guest as its value\n",
    "    print(f\"Hello {name}! Welcome to the hotel!\")\n"
   ]
  },
  {
   "cell_type": "code",
   "execution_count": 10,
   "id": "d8342381",
   "metadata": {},
   "outputs": [
    {
     "name": "stdout",
     "output_type": "stream",
     "text": [
      "Hello Tanmay! Welcome to the hotel!\n"
     ]
    }
   ],
   "source": [
    "greet('Tanmay')"
   ]
  },
  {
   "cell_type": "code",
   "execution_count": null,
   "id": "19b035d6",
   "metadata": {},
   "outputs": [
    {
     "name": "stdout",
     "output_type": "stream",
     "text": [
      "Hello Guest! Welcome to the hotel!\n"
     ]
    }
   ],
   "source": [
    "greet() # In this case since no argument is provided to the function call, it will return the default value assigned to the parameter"
   ]
  },
  {
   "cell_type": "code",
   "execution_count": 14,
   "id": "3072e792",
   "metadata": {},
   "outputs": [],
   "source": [
    "## Variable Length Arguments\n",
    "### Positional Arguments\n",
    "def print_number(*args):\n",
    "    '''In positional arguments \n",
    "    we can provide n number of \n",
    "    argument values and can \n",
    "    fetch it within the function'''\n",
    "    for n in args:\n",
    "        print(n)\n",
    "### Keyword Arguments\n",
    "def person_details(**kwargs):\n",
    "    '''In the Keyword Arguments\n",
    "    we can provide multiple keyword and their respective values\n",
    "    as the argument in the function defination and can fetch each one of them\n",
    "    within the function'''\n",
    "    for key,value in kwargs.items():\n",
    "        print(key,value)"
   ]
  },
  {
   "cell_type": "code",
   "execution_count": 13,
   "id": "a003a89a",
   "metadata": {},
   "outputs": [
    {
     "name": "stdout",
     "output_type": "stream",
     "text": [
      "1\n",
      "2\n",
      "3\n",
      "5\n",
      "6\n"
     ]
    }
   ],
   "source": [
    "print_number(1,2,3,5,6)"
   ]
  },
  {
   "cell_type": "code",
   "execution_count": 15,
   "id": "2fb28f53",
   "metadata": {},
   "outputs": [
    {
     "name": "stdout",
     "output_type": "stream",
     "text": [
      "name Tanmay\n",
      "age 28\n"
     ]
    }
   ],
   "source": [
    "person_details(name='Tanmay',age=28)"
   ]
  },
  {
   "cell_type": "markdown",
   "id": "645db547",
   "metadata": {},
   "source": [
    "### More Examples of functions"
   ]
  },
  {
   "cell_type": "code",
   "execution_count": 18,
   "id": "175cd09a",
   "metadata": {},
   "outputs": [],
   "source": [
    "# Converting temperatures between Farenheit and Celcius\n",
    "def temp_conv(temp,temp_in,convert_to):\n",
    "    if temp_in==convert_to:\n",
    "        if temp_in=='C':\n",
    "            print(f\"Temperature in Celcius={temp: .3f}\")\n",
    "        else:\n",
    "            print(f\"Temperature in Farenheit={temp: .3f}\")\n",
    "    else:\n",
    "        if temp_in=='C':\n",
    "            new_temp = (9/5)*temp + 32\n",
    "            print(f\"Temperature in Farenheit={new_temp: .3f}\")\n",
    "        else:\n",
    "            new_temp = (temp-32)*(5/9)\n",
    "            print(f\"Temperature in Celsius = {new_temp: .3f}\")"
   ]
  },
  {
   "cell_type": "code",
   "execution_count": null,
   "id": "c0ec4d12",
   "metadata": {},
   "outputs": [
    {
     "name": "stdout",
     "output_type": "stream",
     "text": [
      "Temperature in Farenheit= 98.600\n"
     ]
    }
   ],
   "source": [
    "print(temp_conv(37,'C','F'))"
   ]
  },
  {
   "cell_type": "code",
   "execution_count": 20,
   "id": "5fa57edd",
   "metadata": {},
   "outputs": [
    {
     "name": "stdout",
     "output_type": "stream",
     "text": [
      "Temperature in Celcius= 37.000\n"
     ]
    }
   ],
   "source": [
    "temp_conv(37,'C','C')"
   ]
  },
  {
   "cell_type": "code",
   "execution_count": 21,
   "id": "9dd065f1",
   "metadata": {},
   "outputs": [
    {
     "name": "stdout",
     "output_type": "stream",
     "text": [
      "Temperature in Celsius =  37.000\n"
     ]
    }
   ],
   "source": [
    "temp_conv(98.6,'F','C')"
   ]
  },
  {
   "cell_type": "code",
   "execution_count": null,
   "id": "9597721e",
   "metadata": {},
   "outputs": [],
   "source": [
    "# Example 2: Password Strength Checker\n",
    "def is_strong_pass(password):\n",
    "    '''This function checks if\n",
    "    the password is strong or not'''\n",
    "    if len(password)<10:\n",
    "        return False\n",
    "    elif not any(char.isdigit() for char in password):\n",
    "        return False\n",
    "    elif not any(char.isupper() for char in password):\n",
    "        return False\n",
    "    elif \n"
   ]
  },
  {
   "cell_type": "code",
   "execution_count": null,
   "id": "c6ccd2bc",
   "metadata": {},
   "outputs": [],
   "source": [
    "# Calculating the total cost of items in the cart\n",
    "\n",
    "def total_cart_value(cart:list):\n",
    "    for items in cart"
   ]
  }
 ],
 "metadata": {
  "kernelspec": {
   "display_name": "Python 3",
   "language": "python",
   "name": "python3"
  },
  "language_info": {
   "codemirror_mode": {
    "name": "ipython",
    "version": 3
   },
   "file_extension": ".py",
   "mimetype": "text/x-python",
   "name": "python",
   "nbconvert_exporter": "python",
   "pygments_lexer": "ipython3",
   "version": "3.12.0"
  }
 },
 "nbformat": 4,
 "nbformat_minor": 5
}
